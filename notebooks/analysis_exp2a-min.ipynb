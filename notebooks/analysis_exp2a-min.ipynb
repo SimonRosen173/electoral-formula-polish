{
 "cells": [
  {
   "cell_type": "code",
   "execution_count": 18,
   "id": "f5d4b9bb-cb7f-420d-8248-7fd5a9ed0277",
   "metadata": {},
   "outputs": [],
   "source": [
    "import pandas as pd\n",
    "import seaborn as sns\n",
    "import numpy as np\n",
    "import matplotlib.pyplot as plt\n",
    "import matplotlib\n",
    "\n",
    "from tqdm import tqdm\n",
    "from scipy.stats import norm\n",
    "\n",
    "sns.set()"
   ]
  },
  {
   "cell_type": "markdown",
   "id": "35d1ad8f-b24d-4b00-ab5e-e250f1c02213",
   "metadata": {},
   "source": [
    "# Exp Params"
   ]
  },
  {
   "cell_type": "markdown",
   "id": "48dfec7a-61b7-4c5c-b533-fe519631f894",
   "metadata": {},
   "source": []
  },
  {
   "cell_type": "markdown",
   "id": "3bb3c11d-0df3-459f-bf96-304966a1ce48",
   "metadata": {
    "tags": []
   },
   "source": [
    "# Load & Prepare Data\n",
    "In this particular analysis we only care about data at the national assembly level"
   ]
  },
  {
   "cell_type": "code",
   "execution_count": 19,
   "id": "5c9aaf21-4651-40f1-80eb-5f44f29865dc",
   "metadata": {},
   "outputs": [
    {
     "data": {
      "text/plain": [
       "('data/exp2b', 'figs/exp2b')"
      ]
     },
     "execution_count": 19,
     "metadata": {},
     "output_type": "execute_result"
    }
   ],
   "source": [
    "folder_name = \"exp2b\"\n",
    "file_postfix = \"\"\n",
    "\n",
    "data_path = f\"data/{folder_name}\"\n",
    "figs_path = f\"figs/{folder_name}\"\n",
    "data_path, figs_path"
   ]
  },
  {
   "cell_type": "markdown",
   "id": "1c88087b-8a4f-4d16-9b0b-29c4b7ee5228",
   "metadata": {},
   "source": [
    "## Load"
   ]
  },
  {
   "cell_type": "code",
   "execution_count": 20,
   "id": "34d9bb73-64fd-4ec1-abcc-a80038d1cc41",
   "metadata": {},
   "outputs": [],
   "source": [
    "NROWS = None"
   ]
  },
  {
   "cell_type": "markdown",
   "id": "8f7ccf8b-25b1-4917-aa23-635bdf7c4c8e",
   "metadata": {},
   "source": [
    "### Amended Formula"
   ]
  },
  {
   "cell_type": "code",
   "execution_count": 21,
   "id": "5a7b304b-e1d7-496e-ae13-edea295f5ad9",
   "metadata": {},
   "outputs": [
    {
     "data": {
      "text/plain": [
       "Index(['index', 'seats', 'forf_seats', 'tot_rem_seats', 'tot_surplus',\n",
       "       'is_ind', 'is_forfeit', 'reg_votes', 'comp_votes', 'votes',\n",
       "       'perc_votes', 'perc_seats', 'opt_seats', 'diff_seats', 'diff_perc',\n",
       "       'abs_diff_seats', 'abs_diff_perc', 'max_diff_seats', 'mean_diff_seats',\n",
       "       'min_diff_seats', 'max_diff_perc', 'mean_diff_perc', 'min_diff_perc',\n",
       "       'tot_party_seats', 'tot_party_votes', 'tot_forf_seats',\n",
       "       'tot_forf_votes', 'tot_ind_seats', 'tot_ind_votes', 'tot_seats',\n",
       "       'tot_votes'],\n",
       "      dtype='object')"
      ]
     },
     "execution_count": 21,
     "metadata": {},
     "output_type": "execute_result"
    }
   ],
   "source": [
    "amend_df = pd.read_csv(f\"{data_path}/nat_amend{file_postfix}.csv\", nrows=10)\n",
    "amend_df.columns"
   ]
  },
  {
   "cell_type": "code",
   "execution_count": 22,
   "id": "e7f42036-8085-4b74-a227-52e589ff3003",
   "metadata": {},
   "outputs": [
    {
     "name": "stdout",
     "output_type": "stream",
     "text": [
      "Shape: (1024000, 7)\n"
     ]
    },
    {
     "data": {
      "text/html": [
       "<div>\n",
       "<style scoped>\n",
       "    .dataframe tbody tr th:only-of-type {\n",
       "        vertical-align: middle;\n",
       "    }\n",
       "\n",
       "    .dataframe tbody tr th {\n",
       "        vertical-align: top;\n",
       "    }\n",
       "\n",
       "    .dataframe thead th {\n",
       "        text-align: right;\n",
       "    }\n",
       "</style>\n",
       "<table border=\"1\" class=\"dataframe\">\n",
       "  <thead>\n",
       "    <tr style=\"text-align: right;\">\n",
       "      <th></th>\n",
       "      <th>index</th>\n",
       "      <th>seats</th>\n",
       "      <th>is_ind</th>\n",
       "      <th>is_forfeit</th>\n",
       "      <th>votes</th>\n",
       "      <th>diff_seats</th>\n",
       "      <th>tot_seats</th>\n",
       "    </tr>\n",
       "  </thead>\n",
       "  <tbody>\n",
       "    <tr>\n",
       "      <th>0</th>\n",
       "      <td>0|1|2|3|4|5|6|7|8|9|10|11|12|13|14|15|16|17|18...</td>\n",
       "      <td>3|81|3|3|3|3|3|2|2|2|3|2|2|3|2|99|1|2|1|3|2|2|...</td>\n",
       "      <td>False|False|False|False|False|False|False|Fals...</td>\n",
       "      <td>False|False|False|False|False|False|False|Fals...</td>\n",
       "      <td>144404|4168288|149124|171936|138812|189706|162...</td>\n",
       "      <td>-0.19731123990232247|-0.09909748725776524|-0.1...</td>\n",
       "      <td>400</td>\n",
       "    </tr>\n",
       "    <tr>\n",
       "      <th>1</th>\n",
       "      <td>0|1|2|3|4|5|6|7|8|9|10|11|12|13|14|15|16|17|18...</td>\n",
       "      <td>3|2|3|2|2|3|2|329|3|2|2|2|1|2|2|2|2|2|2|2|2|2|...</td>\n",
       "      <td>False|False|False|False|False|False|False|Fals...</td>\n",
       "      <td>False|False|False|False|False|False|False|Fals...</td>\n",
       "      <td>169144|114760|134508|112766|113242|139216|1174...</td>\n",
       "      <td>0.7151468529873934|0.5206348014049169|-0.04561...</td>\n",
       "      <td>400</td>\n",
       "    </tr>\n",
       "    <tr>\n",
       "      <th>2</th>\n",
       "      <td>0|1|2|3|4|5|6|7|8|9|10|11|12|13|14|15|16|17|18...</td>\n",
       "      <td>206|152|2|2|1|2|2|2|2|2|1|2|1|1|2|1|1|1|1|1|1|...</td>\n",
       "      <td>False|False|False|False|False|False|False|Fals...</td>\n",
       "      <td>False|False|False|False|False|False|False|Fals...</td>\n",
       "      <td>9996740|7350016|119498|79866|50448|83230|95162...</td>\n",
       "      <td>0.40954711166193647|-0.23917858987340423|0.467...</td>\n",
       "      <td>400</td>\n",
       "    </tr>\n",
       "    <tr>\n",
       "      <th>3</th>\n",
       "      <td>0|1|2|3|4|5|6|7|8|9|10|11|12|13|14|15|16|17|18...</td>\n",
       "      <td>159|82|2|103|1|2|1|2|1|2|1|1|2|1|1|1|1|2|1|1|1...</td>\n",
       "      <td>False|False|False|False|False|False|False|Fals...</td>\n",
       "      <td>False|False|False|False|False|False|False|Fals...</td>\n",
       "      <td>7506628|3878878|92092|4848348|54238|81460|5655...</td>\n",
       "      <td>0.3406222743967362|0.3356151718810878|-0.04519...</td>\n",
       "      <td>400</td>\n",
       "    </tr>\n",
       "    <tr>\n",
       "      <th>4</th>\n",
       "      <td>0|1|2|3|4|5|6|7|8|9|10|11|12|13|14|15|16|17|18...</td>\n",
       "      <td>42|48|64|22|38|42|1|2|1|2|27|2|2|1|2|1|1|1|1|1...</td>\n",
       "      <td>False|False|False|False|False|False|False|Fals...</td>\n",
       "      <td>False|False|False|False|False|False|False|Fals...</td>\n",
       "      <td>1889770|2174054|2925418|1018230|1741902|190379...</td>\n",
       "      <td>-0.19586815219079057|0.092857892895438|0.71399...</td>\n",
       "      <td>400</td>\n",
       "    </tr>\n",
       "  </tbody>\n",
       "</table>\n",
       "</div>"
      ],
      "text/plain": [
       "                                               index  \\\n",
       "0  0|1|2|3|4|5|6|7|8|9|10|11|12|13|14|15|16|17|18...   \n",
       "1  0|1|2|3|4|5|6|7|8|9|10|11|12|13|14|15|16|17|18...   \n",
       "2  0|1|2|3|4|5|6|7|8|9|10|11|12|13|14|15|16|17|18...   \n",
       "3  0|1|2|3|4|5|6|7|8|9|10|11|12|13|14|15|16|17|18...   \n",
       "4  0|1|2|3|4|5|6|7|8|9|10|11|12|13|14|15|16|17|18...   \n",
       "\n",
       "                                               seats  \\\n",
       "0  3|81|3|3|3|3|3|2|2|2|3|2|2|3|2|99|1|2|1|3|2|2|...   \n",
       "1  3|2|3|2|2|3|2|329|3|2|2|2|1|2|2|2|2|2|2|2|2|2|...   \n",
       "2  206|152|2|2|1|2|2|2|2|2|1|2|1|1|2|1|1|1|1|1|1|...   \n",
       "3  159|82|2|103|1|2|1|2|1|2|1|1|2|1|1|1|1|2|1|1|1...   \n",
       "4  42|48|64|22|38|42|1|2|1|2|27|2|2|1|2|1|1|1|1|1...   \n",
       "\n",
       "                                              is_ind  \\\n",
       "0  False|False|False|False|False|False|False|Fals...   \n",
       "1  False|False|False|False|False|False|False|Fals...   \n",
       "2  False|False|False|False|False|False|False|Fals...   \n",
       "3  False|False|False|False|False|False|False|Fals...   \n",
       "4  False|False|False|False|False|False|False|Fals...   \n",
       "\n",
       "                                          is_forfeit  \\\n",
       "0  False|False|False|False|False|False|False|Fals...   \n",
       "1  False|False|False|False|False|False|False|Fals...   \n",
       "2  False|False|False|False|False|False|False|Fals...   \n",
       "3  False|False|False|False|False|False|False|Fals...   \n",
       "4  False|False|False|False|False|False|False|Fals...   \n",
       "\n",
       "                                               votes  \\\n",
       "0  144404|4168288|149124|171936|138812|189706|162...   \n",
       "1  169144|114760|134508|112766|113242|139216|1174...   \n",
       "2  9996740|7350016|119498|79866|50448|83230|95162...   \n",
       "3  7506628|3878878|92092|4848348|54238|81460|5655...   \n",
       "4  1889770|2174054|2925418|1018230|1741902|190379...   \n",
       "\n",
       "                                          diff_seats  tot_seats  \n",
       "0  -0.19731123990232247|-0.09909748725776524|-0.1...        400  \n",
       "1  0.7151468529873934|0.5206348014049169|-0.04561...        400  \n",
       "2  0.40954711166193647|-0.23917858987340423|0.467...        400  \n",
       "3  0.3406222743967362|0.3356151718810878|-0.04519...        400  \n",
       "4  -0.19586815219079057|0.092857892895438|0.71399...        400  "
      ]
     },
     "execution_count": 22,
     "metadata": {},
     "output_type": "execute_result"
    }
   ],
   "source": [
    "cols = [\"index\", \"votes\", \"seats\", \"diff_seats\", \"is_ind\", \"is_forfeit\", \"tot_seats\"]\n",
    "\n",
    "amend_df = pd.read_csv(f\"{data_path}/nat_amend{file_postfix}.csv\", usecols=cols, nrows=NROWS)\n",
    "print(f\"Shape: {amend_df.shape}\")\n",
    "amend_df.head()"
   ]
  },
  {
   "cell_type": "markdown",
   "id": "7b8e2f9b-b3f1-4d87-8759-acb07fdeaa45",
   "metadata": {},
   "source": [
    "### Original Formula"
   ]
  },
  {
   "cell_type": "code",
   "execution_count": 23,
   "id": "99b7a0f4-87c1-4ace-b2db-963c7086e577",
   "metadata": {},
   "outputs": [
    {
     "data": {
      "text/html": [
       "<div>\n",
       "<style scoped>\n",
       "    .dataframe tbody tr th:only-of-type {\n",
       "        vertical-align: middle;\n",
       "    }\n",
       "\n",
       "    .dataframe tbody tr th {\n",
       "        vertical-align: top;\n",
       "    }\n",
       "\n",
       "    .dataframe thead th {\n",
       "        text-align: right;\n",
       "    }\n",
       "</style>\n",
       "<table border=\"1\" class=\"dataframe\">\n",
       "  <thead>\n",
       "    <tr style=\"text-align: right;\">\n",
       "      <th></th>\n",
       "      <th>party</th>\n",
       "      <th>votes</th>\n",
       "      <th>seats</th>\n",
       "      <th>is_forfeit</th>\n",
       "      <th>diff_seats</th>\n",
       "    </tr>\n",
       "  </thead>\n",
       "  <tbody>\n",
       "    <tr>\n",
       "      <th>0</th>\n",
       "      <td>party_22|party_6|party_10|party_5|party_15|par...</td>\n",
       "      <td>74562|85968|69406|2551716|94853|81277|2084144|...</td>\n",
       "      <td>3|3|3|100|3|3|82|2|2|2|3|3|2|2|4|2|2|2|1|63|2|...</td>\n",
       "      <td>False|False|False|False|False|False|False|Fals...</td>\n",
       "      <td>-0.061626745572903374|0.387866097161941|-0.264...</td>\n",
       "    </tr>\n",
       "    <tr>\n",
       "      <th>1</th>\n",
       "      <td>party_18|party_24|party_17|party_22|party_12|p...</td>\n",
       "      <td>84572|57380|67254|56383|56621|69608|58746|7959...</td>\n",
       "      <td>3|2|3|2|2|3|3|3|2|335|2|2|1|2|2|2|2|2|2|2|2|2|...</td>\n",
       "      <td>False|False|False|False|False|False|False|Fals...</td>\n",
       "      <td>0.7813199521500187|0.5655316044833758|0.007010...</td>\n",
       "    </tr>\n",
       "    <tr>\n",
       "      <th>2</th>\n",
       "      <td>party_3|party_17|party_13|party_6|party_7|part...</td>\n",
       "      <td>4998370|59749|39933|25224|41615|47581|57400|44...</td>\n",
       "      <td>210|2|2|1|2|2|2|2|2|1|2|1|1|2|1|1|1|1|1|154|1|...</td>\n",
       "      <td>False|False|False|False|False|False|False|Fals...</td>\n",
       "      <td>0.08605303985947899|0.5113050020463801|-0.3215...</td>\n",
       "    </tr>\n",
       "    <tr>\n",
       "      <th>3</th>\n",
       "      <td>party_3|party_4|party_2|party_1|party_17|party...</td>\n",
       "      <td>2424174|3753314|1939439|46046|27119|40730|2827...</td>\n",
       "      <td>105|163|84|2|1|2|1|2|1|2|1|1|2|1|1|1|1|2|1|1|1...</td>\n",
       "      <td>False|False|False|False|False|False|False|Fals...</td>\n",
       "      <td>0.2830924949161897|0.00830923211941581|0.23080...</td>\n",
       "    </tr>\n",
       "    <tr>\n",
       "      <th>4</th>\n",
       "      <td>party_5|party_8|party_6|party_7|party_2|party_...</td>\n",
       "      <td>509115|944885|863024|951895|870951|460416|2446...</td>\n",
       "      <td>23|42|39|43|39|20|1|2|1|2|28|2|2|1|2|49|1|1|1|...</td>\n",
       "      <td>False|False|False|False|False|False|False|Fals...</td>\n",
       "      <td>0.0430191575944896|0.7663752918764288|0.061270...</td>\n",
       "    </tr>\n",
       "  </tbody>\n",
       "</table>\n",
       "</div>"
      ],
      "text/plain": [
       "                                               party  \\\n",
       "0  party_22|party_6|party_10|party_5|party_15|par...   \n",
       "1  party_18|party_24|party_17|party_22|party_12|p...   \n",
       "2  party_3|party_17|party_13|party_6|party_7|part...   \n",
       "3  party_3|party_4|party_2|party_1|party_17|party...   \n",
       "4  party_5|party_8|party_6|party_7|party_2|party_...   \n",
       "\n",
       "                                               votes  \\\n",
       "0  74562|85968|69406|2551716|94853|81277|2084144|...   \n",
       "1  84572|57380|67254|56383|56621|69608|58746|7959...   \n",
       "2  4998370|59749|39933|25224|41615|47581|57400|44...   \n",
       "3  2424174|3753314|1939439|46046|27119|40730|2827...   \n",
       "4  509115|944885|863024|951895|870951|460416|2446...   \n",
       "\n",
       "                                               seats  \\\n",
       "0  3|3|3|100|3|3|82|2|2|2|3|3|2|2|4|2|2|2|1|63|2|...   \n",
       "1  3|2|3|2|2|3|3|3|2|335|2|2|1|2|2|2|2|2|2|2|2|2|...   \n",
       "2  210|2|2|1|2|2|2|2|2|1|2|1|1|2|1|1|1|1|1|154|1|...   \n",
       "3  105|163|84|2|1|2|1|2|1|2|1|1|2|1|1|1|1|2|1|1|1...   \n",
       "4  23|42|39|43|39|20|1|2|1|2|28|2|2|1|2|49|1|1|1|...   \n",
       "\n",
       "                                          is_forfeit  \\\n",
       "0  False|False|False|False|False|False|False|Fals...   \n",
       "1  False|False|False|False|False|False|False|Fals...   \n",
       "2  False|False|False|False|False|False|False|Fals...   \n",
       "3  False|False|False|False|False|False|False|Fals...   \n",
       "4  False|False|False|False|False|False|False|Fals...   \n",
       "\n",
       "                                          diff_seats  \n",
       "0  -0.061626745572903374|0.387866097161941|-0.264...  \n",
       "1  0.7813199521500187|0.5655316044833758|0.007010...  \n",
       "2  0.08605303985947899|0.5113050020463801|-0.3215...  \n",
       "3  0.2830924949161897|0.00830923211941581|0.23080...  \n",
       "4  0.0430191575944896|0.7663752918764288|0.061270...  "
      ]
     },
     "execution_count": 23,
     "metadata": {},
     "output_type": "execute_result"
    }
   ],
   "source": [
    "cols = [\"party\", \"votes\", \"seats\", \"diff_seats\", \"is_forfeit\"]\n",
    "orig_df = pd.read_csv(f\"{data_path}/nat_orig{file_postfix}.csv\", nrows=NROWS, usecols=cols)\n",
    "orig_df.head()\n",
    "# amend_df.head()\n",
    "# drop_cols = [\"max_diff_seats\", \"mean_diff_seats\", \"min_diff_seats\",\t\"max_diff_perc\", \n",
    "#              \"mean_diff_perc\", \"min_diff_perc\"]\n",
    "# cols = set(orig_df.columns) - set(drop_cols)\n",
    "# cols = list(cols)\n",
    "# cols"
   ]
  },
  {
   "cell_type": "code",
   "execution_count": 24,
   "id": "82245744-a32e-403d-a9bb-7404b15762f3",
   "metadata": {},
   "outputs": [
    {
     "data": {
      "text/plain": [
       "count    1024000.0\n",
       "mean         400.0\n",
       "std            0.0\n",
       "min          400.0\n",
       "25%          400.0\n",
       "50%          400.0\n",
       "75%          400.0\n",
       "max          400.0\n",
       "Name: tot_seats, dtype: float64"
      ]
     },
     "execution_count": 24,
     "metadata": {},
     "output_type": "execute_result"
    }
   ],
   "source": [
    "amend_df[\"tot_seats\"].describe()"
   ]
  },
  {
   "cell_type": "markdown",
   "id": "8e77bfb7-76d1-4d51-88b4-36cdd250c7ac",
   "metadata": {},
   "source": [
    "# Prepare Data"
   ]
  },
  {
   "cell_type": "code",
   "execution_count": 25,
   "id": "994f377e-753a-4753-bb04-03da9e44c4b9",
   "metadata": {},
   "outputs": [],
   "source": [
    "def row_to_df(row):\n",
    "    df_dict = {key: val.split(\"|\") for key,val in row.items() if type(val) == str and \"|\" in val}\n",
    "    df = pd.DataFrame.from_dict(df_dict)\n",
    "    df.rename({\"index\": \"party\"}, axis=1, inplace=True)\n",
    "    df.set_index(\"party\", inplace=True)\n",
    "    return df"
   ]
  },
  {
   "cell_type": "code",
   "execution_count": 26,
   "id": "7603dc2b-ec38-454f-bfdd-69742af2d465",
   "metadata": {},
   "outputs": [],
   "source": [
    "bool_map = {\n",
    "    \"True\": True,\n",
    "    \"False\": False\n",
    "}"
   ]
  },
  {
   "cell_type": "markdown",
   "id": "b02c7154-61cf-4c59-a66f-4da7354ea538",
   "metadata": {},
   "source": [
    "### Ammended"
   ]
  },
  {
   "cell_type": "code",
   "execution_count": 27,
   "id": "d60be84d-8067-4f49-9e93-12fa276be9bc",
   "metadata": {},
   "outputs": [],
   "source": [
    "amend_cols = [\"votes\", \"seats\", \"is_ind\", \"is_forfeit\"]\n",
    "amend_type_dict = {\n",
    "    \"votes\": \"int\", \n",
    "    \"seats\": \"int\",  \n",
    "    \"is_forfeit\": \"str\",\n",
    "    \"is_ind\": \"str\"\n",
    "}"
   ]
  },
  {
   "cell_type": "markdown",
   "id": "952f32ab-f2ee-476c-94c4-33465309b951",
   "metadata": {},
   "source": [
    "#### Only Parties"
   ]
  },
  {
   "cell_type": "markdown",
   "id": "dbcdc335-bae1-42d6-8df7-a9de60876b21",
   "metadata": {},
   "source": [
    "I.e. inter-party proportionality"
   ]
  },
  {
   "cell_type": "code",
   "execution_count": 28,
   "id": "00490f68-1e5e-400d-a117-9166c8bb00e2",
   "metadata": {},
   "outputs": [],
   "source": [
    "def prep_amend_p(df):\n",
    "    p_df = df[amend_cols].astype(amend_type_dict)\n",
    "    p_df[\"is_forfeit\"] = p_df[\"is_forfeit\"].map(bool_map)\n",
    "    p_df[\"is_ind\"] = p_df[\"is_ind\"].map(bool_map)\n",
    "    p_df = p_df[p_df[\"is_ind\"]==False]\n",
    "    \n",
    "    # print(p_df.info())\n",
    "    \n",
    "    # All Cands\n",
    "    tot_votes = p_df[\"votes\"].sum()\n",
    "    tot_seats = p_df[\"seats\"].sum()\n",
    "    \n",
    "    p_df[\"vote_perc\"] = p_df[\"votes\"]/tot_votes\n",
    "    p_df[\"seat_perc\"] = p_df[\"seats\"]/tot_seats\n",
    "    \n",
    "    p_df[\"opt_seats\"] = p_df[\"vote_perc\"] * tot_seats\n",
    "    p_df[\"seat_diff\"] = p_df[\"opt_seats\"] - p_df[\"seats\"]\n",
    "    \n",
    "    return p_df"
   ]
  },
  {
   "cell_type": "markdown",
   "id": "a64f066a-0dec-4a83-929e-d40c32bb9302",
   "metadata": {},
   "source": [
    "### Original"
   ]
  },
  {
   "cell_type": "code",
   "execution_count": 29,
   "id": "14938355-2e55-4b62-ad70-4c2accad092d",
   "metadata": {},
   "outputs": [],
   "source": [
    "orig_cols = [\"votes\", \"seats\", \"is_forfeit\"]\n",
    "orig_type_dict = {\n",
    "    \"votes\": \"int\", \n",
    "    \"seats\": \"int\",  \n",
    "    \"is_forfeit\": \"str\"\n",
    "}"
   ]
  },
  {
   "cell_type": "code",
   "execution_count": 30,
   "id": "cc9c3d35-3d64-43a3-b6da-3cbfd175dffa",
   "metadata": {},
   "outputs": [],
   "source": [
    "def prep_orig(df):\n",
    "    df = df[orig_cols].astype(orig_type_dict)\n",
    "    df[\"is_forfeit\"] = df[\"is_forfeit\"].map(bool_map)\n",
    "    \n",
    "    # All Cands\n",
    "    tot_votes = df[\"votes\"].sum()\n",
    "    tot_seats = df[\"seats\"].sum()\n",
    "    \n",
    "    df[\"vote_perc\"] = df[\"votes\"]/tot_votes\n",
    "    df[\"seat_perc\"] = df[\"seats\"]/tot_seats\n",
    "    \n",
    "    df[\"opt_seats\"] = df[\"vote_perc\"] * tot_seats\n",
    "    df[\"seat_diff\"] = df[\"opt_seats\"] - df[\"seats\"]\n",
    "    \n",
    "    return df"
   ]
  },
  {
   "cell_type": "markdown",
   "id": "56a330c4-283a-4d6e-ad5a-4c4ed72c78eb",
   "metadata": {},
   "source": [
    "## Combine DFs"
   ]
  },
  {
   "cell_type": "markdown",
   "id": "f7354da4-0eec-43f7-aaeb-439b7e4f81f0",
   "metadata": {},
   "source": [
    "### Amended"
   ]
  },
  {
   "cell_type": "markdown",
   "id": "a4f6dd9b-0169-411b-8e09-1597a90c3db7",
   "metadata": {},
   "source": [
    "#### Only Parties"
   ]
  },
  {
   "cell_type": "code",
   "execution_count": 32,
   "id": "d4a5401d-daed-48b1-8193-fe6fae3715e0",
   "metadata": {
    "tags": []
   },
   "outputs": [
    {
     "name": "stdout",
     "output_type": "stream",
     "text": [
      "Shape: (40962019, 9)\n"
     ]
    },
    {
     "data": {
      "text/html": [
       "<div>\n",
       "<style scoped>\n",
       "    .dataframe tbody tr th:only-of-type {\n",
       "        vertical-align: middle;\n",
       "    }\n",
       "\n",
       "    .dataframe tbody tr th {\n",
       "        vertical-align: top;\n",
       "    }\n",
       "\n",
       "    .dataframe thead th {\n",
       "        text-align: right;\n",
       "    }\n",
       "</style>\n",
       "<table border=\"1\" class=\"dataframe\">\n",
       "  <thead>\n",
       "    <tr style=\"text-align: right;\">\n",
       "      <th></th>\n",
       "      <th>party</th>\n",
       "      <th>votes</th>\n",
       "      <th>seats</th>\n",
       "      <th>is_ind</th>\n",
       "      <th>is_forfeit</th>\n",
       "      <th>vote_perc</th>\n",
       "      <th>seat_perc</th>\n",
       "      <th>opt_seats</th>\n",
       "      <th>seat_diff</th>\n",
       "    </tr>\n",
       "  </thead>\n",
       "  <tbody>\n",
       "    <tr>\n",
       "      <th>0</th>\n",
       "      <td>0</td>\n",
       "      <td>144404</td>\n",
       "      <td>3</td>\n",
       "      <td>False</td>\n",
       "      <td>False</td>\n",
       "      <td>0.007113</td>\n",
       "      <td>0.007614</td>\n",
       "      <td>2.802689</td>\n",
       "      <td>-0.197311</td>\n",
       "    </tr>\n",
       "    <tr>\n",
       "      <th>1</th>\n",
       "      <td>1</td>\n",
       "      <td>4168288</td>\n",
       "      <td>81</td>\n",
       "      <td>False</td>\n",
       "      <td>False</td>\n",
       "      <td>0.205332</td>\n",
       "      <td>0.205584</td>\n",
       "      <td>80.900903</td>\n",
       "      <td>-0.099097</td>\n",
       "    </tr>\n",
       "    <tr>\n",
       "      <th>2</th>\n",
       "      <td>2</td>\n",
       "      <td>149124</td>\n",
       "      <td>3</td>\n",
       "      <td>False</td>\n",
       "      <td>False</td>\n",
       "      <td>0.007346</td>\n",
       "      <td>0.007614</td>\n",
       "      <td>2.894298</td>\n",
       "      <td>-0.105702</td>\n",
       "    </tr>\n",
       "    <tr>\n",
       "      <th>3</th>\n",
       "      <td>3</td>\n",
       "      <td>171936</td>\n",
       "      <td>3</td>\n",
       "      <td>False</td>\n",
       "      <td>False</td>\n",
       "      <td>0.008470</td>\n",
       "      <td>0.007614</td>\n",
       "      <td>3.337048</td>\n",
       "      <td>0.337048</td>\n",
       "    </tr>\n",
       "    <tr>\n",
       "      <th>4</th>\n",
       "      <td>4</td>\n",
       "      <td>138812</td>\n",
       "      <td>3</td>\n",
       "      <td>False</td>\n",
       "      <td>False</td>\n",
       "      <td>0.006838</td>\n",
       "      <td>0.007614</td>\n",
       "      <td>2.694156</td>\n",
       "      <td>-0.305844</td>\n",
       "    </tr>\n",
       "  </tbody>\n",
       "</table>\n",
       "</div>"
      ],
      "text/plain": [
       "  party    votes  seats  is_ind  is_forfeit  vote_perc  seat_perc  opt_seats  \\\n",
       "0     0   144404      3   False       False   0.007113   0.007614   2.802689   \n",
       "1     1  4168288     81   False       False   0.205332   0.205584  80.900903   \n",
       "2     2   149124      3   False       False   0.007346   0.007614   2.894298   \n",
       "3     3   171936      3   False       False   0.008470   0.007614   3.337048   \n",
       "4     4   138812      3   False       False   0.006838   0.007614   2.694156   \n",
       "\n",
       "   seat_diff  \n",
       "0  -0.197311  \n",
       "1  -0.099097  \n",
       "2  -0.105702  \n",
       "3   0.337048  \n",
       "4  -0.305844  "
      ]
     },
     "execution_count": 32,
     "metadata": {},
     "output_type": "execute_result"
    }
   ],
   "source": [
    "n_rows = amend_df.shape[0]\n",
    "dfs_arr = [prep_amend_p(row_to_df(amend_df.iloc[i])).reset_index() for i in range(n_rows)]\n",
    "all_amend_p_df = pd.concat(dfs_arr, ignore_index=True)\n",
    "print(f\"Shape: {all_amend_p_df.shape}\")\n",
    "all_amend_p_df.head()"
   ]
  },
  {
   "cell_type": "code",
   "execution_count": 33,
   "id": "4b3efc7f-eb80-4ec4-9e4c-048b9389bf27",
   "metadata": {},
   "outputs": [],
   "source": [
    "all_amend_p_df.to_csv(f\"{data_path}/proc_nat_amend{file_postfix}.csv\", index=False)"
   ]
  },
  {
   "cell_type": "markdown",
   "id": "89bf34c2-49ae-4a58-869d-8bea2baf50ee",
   "metadata": {},
   "source": [
    "### Original"
   ]
  },
  {
   "cell_type": "code",
   "execution_count": 34,
   "id": "ad41df5f-30df-4c08-b37a-462780767e66",
   "metadata": {},
   "outputs": [
    {
     "name": "stdout",
     "output_type": "stream",
     "text": [
      "Shape: (40962019, 8)\n"
     ]
    },
    {
     "data": {
      "text/html": [
       "<div>\n",
       "<style scoped>\n",
       "    .dataframe tbody tr th:only-of-type {\n",
       "        vertical-align: middle;\n",
       "    }\n",
       "\n",
       "    .dataframe tbody tr th {\n",
       "        vertical-align: top;\n",
       "    }\n",
       "\n",
       "    .dataframe thead th {\n",
       "        text-align: right;\n",
       "    }\n",
       "</style>\n",
       "<table border=\"1\" class=\"dataframe\">\n",
       "  <thead>\n",
       "    <tr style=\"text-align: right;\">\n",
       "      <th></th>\n",
       "      <th>party</th>\n",
       "      <th>votes</th>\n",
       "      <th>seats</th>\n",
       "      <th>is_forfeit</th>\n",
       "      <th>vote_perc</th>\n",
       "      <th>seat_perc</th>\n",
       "      <th>opt_seats</th>\n",
       "      <th>seat_diff</th>\n",
       "    </tr>\n",
       "  </thead>\n",
       "  <tbody>\n",
       "    <tr>\n",
       "      <th>0</th>\n",
       "      <td>party_22</td>\n",
       "      <td>74562</td>\n",
       "      <td>3</td>\n",
       "      <td>False</td>\n",
       "      <td>0.007346</td>\n",
       "      <td>0.0075</td>\n",
       "      <td>2.938373</td>\n",
       "      <td>-0.061627</td>\n",
       "    </tr>\n",
       "    <tr>\n",
       "      <th>1</th>\n",
       "      <td>party_6</td>\n",
       "      <td>85968</td>\n",
       "      <td>3</td>\n",
       "      <td>False</td>\n",
       "      <td>0.008470</td>\n",
       "      <td>0.0075</td>\n",
       "      <td>3.387866</td>\n",
       "      <td>0.387866</td>\n",
       "    </tr>\n",
       "    <tr>\n",
       "      <th>2</th>\n",
       "      <td>party_10</td>\n",
       "      <td>69406</td>\n",
       "      <td>3</td>\n",
       "      <td>False</td>\n",
       "      <td>0.006838</td>\n",
       "      <td>0.0075</td>\n",
       "      <td>2.735183</td>\n",
       "      <td>-0.264817</td>\n",
       "    </tr>\n",
       "    <tr>\n",
       "      <th>3</th>\n",
       "      <td>party_5</td>\n",
       "      <td>2551716</td>\n",
       "      <td>100</td>\n",
       "      <td>False</td>\n",
       "      <td>0.251398</td>\n",
       "      <td>0.2500</td>\n",
       "      <td>100.559186</td>\n",
       "      <td>0.559186</td>\n",
       "    </tr>\n",
       "    <tr>\n",
       "      <th>4</th>\n",
       "      <td>party_15</td>\n",
       "      <td>94853</td>\n",
       "      <td>3</td>\n",
       "      <td>False</td>\n",
       "      <td>0.009345</td>\n",
       "      <td>0.0075</td>\n",
       "      <td>3.738010</td>\n",
       "      <td>0.738010</td>\n",
       "    </tr>\n",
       "  </tbody>\n",
       "</table>\n",
       "</div>"
      ],
      "text/plain": [
       "      party    votes  seats  is_forfeit  vote_perc  seat_perc   opt_seats  \\\n",
       "0  party_22    74562      3       False   0.007346     0.0075    2.938373   \n",
       "1   party_6    85968      3       False   0.008470     0.0075    3.387866   \n",
       "2  party_10    69406      3       False   0.006838     0.0075    2.735183   \n",
       "3   party_5  2551716    100       False   0.251398     0.2500  100.559186   \n",
       "4  party_15    94853      3       False   0.009345     0.0075    3.738010   \n",
       "\n",
       "   seat_diff  \n",
       "0  -0.061627  \n",
       "1   0.387866  \n",
       "2  -0.264817  \n",
       "3   0.559186  \n",
       "4   0.738010  "
      ]
     },
     "execution_count": 34,
     "metadata": {},
     "output_type": "execute_result"
    }
   ],
   "source": [
    "n_rows = orig_df.shape[0]\n",
    "dfs_arr = [prep_orig(row_to_df(orig_df.iloc[i])).reset_index() for i in range(n_rows)]\n",
    "all_orig_df = pd.concat(dfs_arr, ignore_index=True)\n",
    "print(f\"Shape: {all_orig_df.shape}\")\n",
    "all_orig_df.head()"
   ]
  },
  {
   "cell_type": "code",
   "execution_count": 35,
   "id": "34b939a9-b93a-4eac-a090-c5523912c10a",
   "metadata": {},
   "outputs": [],
   "source": [
    "all_orig_df.to_csv(f\"{data_path}/proc_nat_orig{file_postfix}.csv\", index=False)"
   ]
  },
  {
   "cell_type": "markdown",
   "id": "c1b2cb42-9fdc-4ac2-8a8a-b483fb1fa384",
   "metadata": {},
   "source": [
    "# Analysis"
   ]
  },
  {
   "cell_type": "markdown",
   "id": "94f36f00-7179-4295-9ad2-a09cd9ae3921",
   "metadata": {},
   "source": [
    "## Common Fuctions"
   ]
  },
  {
   "cell_type": "code",
   "execution_count": 36,
   "id": "cfad74c4-c54a-4c1c-8b92-a986b31b34ff",
   "metadata": {},
   "outputs": [],
   "source": [
    "def calc_stats(x):\n",
    "    stats = {\n",
    "        \"min\": x.min(),\n",
    "        \"mean\": x.mean(),\n",
    "        \"max\": x.max()\n",
    "    }\n",
    "    return stats"
   ]
  },
  {
   "cell_type": "markdown",
   "id": "8c5eae7a-051e-45fb-9e8c-69d48ad82e09",
   "metadata": {},
   "source": [
    "## Inter-Party Proportionality\n",
    "Optimal seats for amended formula is only calculated using parties "
   ]
  },
  {
   "cell_type": "markdown",
   "id": "4287ca4a-29c0-440f-a38c-7162e27cae90",
   "metadata": {
    "jp-MarkdownHeadingCollapsed": true
   },
   "source": [
    "### Load Existing"
   ]
  },
  {
   "cell_type": "code",
   "execution_count": 11,
   "id": "3b292d66-a48b-4087-9a5d-104bb74e9d89",
   "metadata": {},
   "outputs": [
    {
     "data": {
      "text/html": [
       "<div>\n",
       "<style scoped>\n",
       "    .dataframe tbody tr th:only-of-type {\n",
       "        vertical-align: middle;\n",
       "    }\n",
       "\n",
       "    .dataframe tbody tr th {\n",
       "        vertical-align: top;\n",
       "    }\n",
       "\n",
       "    .dataframe thead th {\n",
       "        text-align: right;\n",
       "    }\n",
       "</style>\n",
       "<table border=\"1\" class=\"dataframe\">\n",
       "  <thead>\n",
       "    <tr style=\"text-align: right;\">\n",
       "      <th></th>\n",
       "      <th>party</th>\n",
       "      <th>votes</th>\n",
       "      <th>seats</th>\n",
       "      <th>is_ind</th>\n",
       "      <th>is_forfeit</th>\n",
       "      <th>vote_perc</th>\n",
       "      <th>seat_perc</th>\n",
       "      <th>opt_seats</th>\n",
       "      <th>seat_diff</th>\n",
       "    </tr>\n",
       "  </thead>\n",
       "  <tbody>\n",
       "    <tr>\n",
       "      <th>0</th>\n",
       "      <td>0</td>\n",
       "      <td>144404</td>\n",
       "      <td>3</td>\n",
       "      <td>False</td>\n",
       "      <td>False</td>\n",
       "      <td>0.007113</td>\n",
       "      <td>0.007614</td>\n",
       "      <td>2.802689</td>\n",
       "      <td>-0.197311</td>\n",
       "    </tr>\n",
       "    <tr>\n",
       "      <th>1</th>\n",
       "      <td>1</td>\n",
       "      <td>4168288</td>\n",
       "      <td>81</td>\n",
       "      <td>False</td>\n",
       "      <td>False</td>\n",
       "      <td>0.205332</td>\n",
       "      <td>0.205584</td>\n",
       "      <td>80.900903</td>\n",
       "      <td>-0.099097</td>\n",
       "    </tr>\n",
       "    <tr>\n",
       "      <th>2</th>\n",
       "      <td>2</td>\n",
       "      <td>149124</td>\n",
       "      <td>3</td>\n",
       "      <td>False</td>\n",
       "      <td>False</td>\n",
       "      <td>0.007346</td>\n",
       "      <td>0.007614</td>\n",
       "      <td>2.894298</td>\n",
       "      <td>-0.105702</td>\n",
       "    </tr>\n",
       "    <tr>\n",
       "      <th>3</th>\n",
       "      <td>3</td>\n",
       "      <td>171936</td>\n",
       "      <td>3</td>\n",
       "      <td>False</td>\n",
       "      <td>False</td>\n",
       "      <td>0.008470</td>\n",
       "      <td>0.007614</td>\n",
       "      <td>3.337048</td>\n",
       "      <td>0.337048</td>\n",
       "    </tr>\n",
       "    <tr>\n",
       "      <th>4</th>\n",
       "      <td>4</td>\n",
       "      <td>138812</td>\n",
       "      <td>3</td>\n",
       "      <td>False</td>\n",
       "      <td>False</td>\n",
       "      <td>0.006838</td>\n",
       "      <td>0.007614</td>\n",
       "      <td>2.694156</td>\n",
       "      <td>-0.305844</td>\n",
       "    </tr>\n",
       "  </tbody>\n",
       "</table>\n",
       "</div>"
      ],
      "text/plain": [
       "   party    votes  seats  is_ind  is_forfeit  vote_perc  seat_perc  opt_seats  \\\n",
       "0      0   144404      3   False       False   0.007113   0.007614   2.802689   \n",
       "1      1  4168288     81   False       False   0.205332   0.205584  80.900903   \n",
       "2      2   149124      3   False       False   0.007346   0.007614   2.894298   \n",
       "3      3   171936      3   False       False   0.008470   0.007614   3.337048   \n",
       "4      4   138812      3   False       False   0.006838   0.007614   2.694156   \n",
       "\n",
       "   seat_diff  \n",
       "0  -0.197311  \n",
       "1  -0.099097  \n",
       "2  -0.105702  \n",
       "3   0.337048  \n",
       "4  -0.305844  "
      ]
     },
     "execution_count": 11,
     "metadata": {},
     "output_type": "execute_result"
    }
   ],
   "source": [
    "all_amend_p_df = pd.read_csv(f\"{data_path}/proc_nat_amend{file_postfix}.csv\")\n",
    "all_amend_p_df.head()"
   ]
  },
  {
   "cell_type": "code",
   "execution_count": 12,
   "id": "a0d2a89f-33ed-44bc-8d40-9894f956f23c",
   "metadata": {},
   "outputs": [
    {
     "data": {
      "text/html": [
       "<div>\n",
       "<style scoped>\n",
       "    .dataframe tbody tr th:only-of-type {\n",
       "        vertical-align: middle;\n",
       "    }\n",
       "\n",
       "    .dataframe tbody tr th {\n",
       "        vertical-align: top;\n",
       "    }\n",
       "\n",
       "    .dataframe thead th {\n",
       "        text-align: right;\n",
       "    }\n",
       "</style>\n",
       "<table border=\"1\" class=\"dataframe\">\n",
       "  <thead>\n",
       "    <tr style=\"text-align: right;\">\n",
       "      <th></th>\n",
       "      <th>party</th>\n",
       "      <th>votes</th>\n",
       "      <th>seats</th>\n",
       "      <th>is_forfeit</th>\n",
       "      <th>vote_perc</th>\n",
       "      <th>seat_perc</th>\n",
       "      <th>opt_seats</th>\n",
       "      <th>seat_diff</th>\n",
       "    </tr>\n",
       "  </thead>\n",
       "  <tbody>\n",
       "    <tr>\n",
       "      <th>0</th>\n",
       "      <td>party_22</td>\n",
       "      <td>74562</td>\n",
       "      <td>3</td>\n",
       "      <td>False</td>\n",
       "      <td>0.007346</td>\n",
       "      <td>0.0075</td>\n",
       "      <td>2.938373</td>\n",
       "      <td>-0.061627</td>\n",
       "    </tr>\n",
       "    <tr>\n",
       "      <th>1</th>\n",
       "      <td>party_6</td>\n",
       "      <td>85968</td>\n",
       "      <td>3</td>\n",
       "      <td>False</td>\n",
       "      <td>0.008470</td>\n",
       "      <td>0.0075</td>\n",
       "      <td>3.387866</td>\n",
       "      <td>0.387866</td>\n",
       "    </tr>\n",
       "    <tr>\n",
       "      <th>2</th>\n",
       "      <td>party_10</td>\n",
       "      <td>69406</td>\n",
       "      <td>3</td>\n",
       "      <td>False</td>\n",
       "      <td>0.006838</td>\n",
       "      <td>0.0075</td>\n",
       "      <td>2.735183</td>\n",
       "      <td>-0.264817</td>\n",
       "    </tr>\n",
       "    <tr>\n",
       "      <th>3</th>\n",
       "      <td>party_5</td>\n",
       "      <td>2551716</td>\n",
       "      <td>100</td>\n",
       "      <td>False</td>\n",
       "      <td>0.251398</td>\n",
       "      <td>0.2500</td>\n",
       "      <td>100.559186</td>\n",
       "      <td>0.559186</td>\n",
       "    </tr>\n",
       "    <tr>\n",
       "      <th>4</th>\n",
       "      <td>party_15</td>\n",
       "      <td>94853</td>\n",
       "      <td>3</td>\n",
       "      <td>False</td>\n",
       "      <td>0.009345</td>\n",
       "      <td>0.0075</td>\n",
       "      <td>3.738010</td>\n",
       "      <td>0.738010</td>\n",
       "    </tr>\n",
       "  </tbody>\n",
       "</table>\n",
       "</div>"
      ],
      "text/plain": [
       "      party    votes  seats  is_forfeit  vote_perc  seat_perc   opt_seats  \\\n",
       "0  party_22    74562      3       False   0.007346     0.0075    2.938373   \n",
       "1   party_6    85968      3       False   0.008470     0.0075    3.387866   \n",
       "2  party_10    69406      3       False   0.006838     0.0075    2.735183   \n",
       "3   party_5  2551716    100       False   0.251398     0.2500  100.559186   \n",
       "4  party_15    94853      3       False   0.009345     0.0075    3.738010   \n",
       "\n",
       "   seat_diff  \n",
       "0  -0.061627  \n",
       "1   0.387866  \n",
       "2  -0.264817  \n",
       "3   0.559186  \n",
       "4   0.738010  "
      ]
     },
     "execution_count": 12,
     "metadata": {},
     "output_type": "execute_result"
    }
   ],
   "source": [
    "all_orig_df = pd.read_csv(f\"{data_path}/proc_nat_orig{file_postfix}.csv\")\n",
    "all_orig_df.head()"
   ]
  },
  {
   "cell_type": "markdown",
   "id": "4ce0df78-e800-421b-95cd-b43ad52191ff",
   "metadata": {},
   "source": [
    "### All"
   ]
  },
  {
   "cell_type": "code",
   "execution_count": 42,
   "id": "c883dcb9-611d-497a-a3bc-a21d03e1f8f5",
   "metadata": {},
   "outputs": [
    {
     "data": {
      "image/png": "[encoded data removed]",
      "text/plain": [
       "<Figure size 1400x700 with 2 Axes>"
      ]
     },
     "metadata": {},
     "output_type": "display_data"
    }
   ],
   "source": [
    "y_max = 1400000\n",
    "# y_max = None\n",
    "\n",
    "amend_all_data = all_amend_p_df\n",
    "orig_all_data = all_orig_df\n",
    "amend_all_data = amend_all_data[amend_all_data[\"is_ind\"]==False]\n",
    "\n",
    "fig, axs = plt.subplots(1,2, figsize=(14, 7))\n",
    "\n",
    "fig.suptitle('Inter-Party Proportionality of Original Vs Amended Electoral Formulas', fontsize=16)\n",
    "\n",
    "for ax in axs:\n",
    "    ax.set_xlim(-1.5, 1.5)\n",
    "    if y_max is not None:\n",
    "        ax.set_ylim(0, y_max)\n",
    "\n",
    "axs[0].set_xlabel(\"Difference in Seats\")\n",
    "axs[1].set_xlabel(\"Difference in Seats\")\n",
    "\n",
    "axs[0].set_title(\"Original Electoral Formula\")\n",
    "axs[1].set_title(\"Amended Electoral Formula\")\n",
    "    \n",
    "hist_kwargs = {\"binwidth\":0.025, \"kde\": True}\n",
    "\n",
    "sns.histplot(orig_all_data[\"seat_diff\"], ax=axs[0], **hist_kwargs)\n",
    "sns.histplot(amend_all_data[\"seat_diff\"], ax=axs[1], **hist_kwargs)\n",
    "\n",
    "fig.savefig(f\"{figs_path}/ip_prop.png\")"
   ]
  },
  {
   "cell_type": "code",
   "execution_count": 38,
   "id": "b03502a5-092a-4b90-b1c5-792ca1273fdb",
   "metadata": {},
   "outputs": [
    {
     "name": "stdout",
     "output_type": "stream",
     "text": [
      "Original:\n",
      "\t min: -1.875, mean: 0.0, max: 0.98\n",
      "Ammended:\n",
      "\t min: -1.875, mean: 0.0, max: 0.981\n"
     ]
    }
   ],
   "source": [
    "sd_orig_stats = calc_stats(orig_all_data[\"seat_diff\"])\n",
    "sd_amend_stats = calc_stats(amend_all_data[\"seat_diff\"])\n",
    "\n",
    "no_dec = 3\n",
    "\n",
    "print(\"Original:\")\n",
    "print(f\"\\t min: {sd_orig_stats['min'].round(no_dec)}, mean: {sd_orig_stats['mean'].round(no_dec)}, max: {sd_orig_stats['max'].round(no_dec)}\")\n",
    "\n",
    "print(\"Ammended:\")\n",
    "print(f\"\\t min: {sd_amend_stats['min'].round(no_dec)}, mean: {sd_amend_stats['mean'].round(no_dec)}, max: {sd_amend_stats['max'].round(no_dec)}\")"
   ]
  },
  {
   "cell_type": "code",
   "execution_count": 39,
   "id": "4ccc802d-296a-471c-bccf-2245a06538cf",
   "metadata": {},
   "outputs": [
    {
     "data": {
      "text/plain": [
       "(7.781911187978221e-19, 0.4085060936287563)"
      ]
     },
     "execution_count": 39,
     "metadata": {},
     "output_type": "execute_result"
    }
   ],
   "source": [
    "x1 = orig_all_data[\"seat_diff\"]\n",
    "mu1, std1 = norm.fit(x1)\n",
    "mu1, std1"
   ]
  },
  {
   "cell_type": "code",
   "execution_count": 40,
   "id": "ffa91833-b189-4b37-94d6-29b788623c14",
   "metadata": {},
   "outputs": [
    {
     "data": {
      "text/plain": [
       "(2.5540375843406973e-19, 0.40968429839295284)"
      ]
     },
     "execution_count": 40,
     "metadata": {},
     "output_type": "execute_result"
    }
   ],
   "source": [
    "x2 = amend_all_data[\"seat_diff\"]\n",
    "mu2, std2 = norm.fit(x2)\n",
    "mu2, std2"
   ]
  },
  {
   "cell_type": "code",
   "execution_count": 41,
   "id": "ce293349-5c12-4a37-bdf8-eeac8578d0dd",
   "metadata": {},
   "outputs": [
    {
     "name": "stdout",
     "output_type": "stream",
     "text": [
      "Difference: \n",
      "\t mu = 0.0\n",
      "\t std = -0.0012\n"
     ]
    }
   ],
   "source": [
    "print(f\"Difference: \")\n",
    "print(f\"\\t mu = {round(mu1 - mu2, 4)}\")\n",
    "print(f\"\\t std = {round(std1 - std2, 4)}\")"
   ]
  },
  {
   "cell_type": "markdown",
   "id": "830e08ae-58e6-412c-866a-b0041ded3b77",
   "metadata": {},
   "source": [
    "## KDE"
   ]
  },
  {
   "cell_type": "code",
   "execution_count": 43,
   "id": "2c695178-ae33-4948-8f7f-c89b58bf2dad",
   "metadata": {},
   "outputs": [
    {
     "data": {
      "text/html": [
       "<div>\n",
       "<style scoped>\n",
       "    .dataframe tbody tr th:only-of-type {\n",
       "        vertical-align: middle;\n",
       "    }\n",
       "\n",
       "    .dataframe tbody tr th {\n",
       "        vertical-align: top;\n",
       "    }\n",
       "\n",
       "    .dataframe thead th {\n",
       "        text-align: right;\n",
       "    }\n",
       "</style>\n",
       "<table border=\"1\" class=\"dataframe\">\n",
       "  <thead>\n",
       "    <tr style=\"text-align: right;\">\n",
       "      <th></th>\n",
       "      <th>party</th>\n",
       "      <th>votes</th>\n",
       "      <th>seats</th>\n",
       "      <th>is_forfeit</th>\n",
       "      <th>vote_perc</th>\n",
       "      <th>seat_perc</th>\n",
       "      <th>opt_seats</th>\n",
       "      <th>seat_diff</th>\n",
       "    </tr>\n",
       "  </thead>\n",
       "  <tbody>\n",
       "    <tr>\n",
       "      <th>0</th>\n",
       "      <td>party_22</td>\n",
       "      <td>74562</td>\n",
       "      <td>3</td>\n",
       "      <td>False</td>\n",
       "      <td>0.007346</td>\n",
       "      <td>0.0075</td>\n",
       "      <td>2.938373</td>\n",
       "      <td>-0.061627</td>\n",
       "    </tr>\n",
       "    <tr>\n",
       "      <th>1</th>\n",
       "      <td>party_6</td>\n",
       "      <td>85968</td>\n",
       "      <td>3</td>\n",
       "      <td>False</td>\n",
       "      <td>0.008470</td>\n",
       "      <td>0.0075</td>\n",
       "      <td>3.387866</td>\n",
       "      <td>0.387866</td>\n",
       "    </tr>\n",
       "    <tr>\n",
       "      <th>2</th>\n",
       "      <td>party_10</td>\n",
       "      <td>69406</td>\n",
       "      <td>3</td>\n",
       "      <td>False</td>\n",
       "      <td>0.006838</td>\n",
       "      <td>0.0075</td>\n",
       "      <td>2.735183</td>\n",
       "      <td>-0.264817</td>\n",
       "    </tr>\n",
       "    <tr>\n",
       "      <th>3</th>\n",
       "      <td>party_5</td>\n",
       "      <td>2551716</td>\n",
       "      <td>100</td>\n",
       "      <td>False</td>\n",
       "      <td>0.251398</td>\n",
       "      <td>0.2500</td>\n",
       "      <td>100.559186</td>\n",
       "      <td>0.559186</td>\n",
       "    </tr>\n",
       "    <tr>\n",
       "      <th>4</th>\n",
       "      <td>party_15</td>\n",
       "      <td>94853</td>\n",
       "      <td>3</td>\n",
       "      <td>False</td>\n",
       "      <td>0.009345</td>\n",
       "      <td>0.0075</td>\n",
       "      <td>3.738010</td>\n",
       "      <td>0.738010</td>\n",
       "    </tr>\n",
       "  </tbody>\n",
       "</table>\n",
       "</div>"
      ],
      "text/plain": [
       "      party    votes  seats  is_forfeit  vote_perc  seat_perc   opt_seats  \\\n",
       "0  party_22    74562      3       False   0.007346     0.0075    2.938373   \n",
       "1   party_6    85968      3       False   0.008470     0.0075    3.387866   \n",
       "2  party_10    69406      3       False   0.006838     0.0075    2.735183   \n",
       "3   party_5  2551716    100       False   0.251398     0.2500  100.559186   \n",
       "4  party_15    94853      3       False   0.009345     0.0075    3.738010   \n",
       "\n",
       "   seat_diff  \n",
       "0  -0.061627  \n",
       "1   0.387866  \n",
       "2  -0.264817  \n",
       "3   0.559186  \n",
       "4   0.738010  "
      ]
     },
     "execution_count": 43,
     "metadata": {},
     "output_type": "execute_result"
    }
   ],
   "source": [
    "all_orig_df.head()"
   ]
  },
  {
   "cell_type": "code",
   "execution_count": 45,
   "id": "26aa37d1-3ce0-4e98-a4b3-dea4c5c0cb65",
   "metadata": {},
   "outputs": [
    {
     "data": {
      "text/html": [
       "<div>\n",
       "<style scoped>\n",
       "    .dataframe tbody tr th:only-of-type {\n",
       "        vertical-align: middle;\n",
       "    }\n",
       "\n",
       "    .dataframe tbody tr th {\n",
       "        vertical-align: top;\n",
       "    }\n",
       "\n",
       "    .dataframe thead th {\n",
       "        text-align: right;\n",
       "    }\n",
       "</style>\n",
       "<table border=\"1\" class=\"dataframe\">\n",
       "  <thead>\n",
       "    <tr style=\"text-align: right;\">\n",
       "      <th></th>\n",
       "      <th>party</th>\n",
       "      <th>votes</th>\n",
       "      <th>seats</th>\n",
       "      <th>is_forfeit</th>\n",
       "      <th>vote_perc</th>\n",
       "      <th>seat_perc</th>\n",
       "      <th>opt_seats</th>\n",
       "      <th>seat_diff</th>\n",
       "    </tr>\n",
       "  </thead>\n",
       "  <tbody>\n",
       "    <tr>\n",
       "      <th>21</th>\n",
       "      <td>party_1</td>\n",
       "      <td>50746</td>\n",
       "      <td>2</td>\n",
       "      <td>False</td>\n",
       "      <td>0.005000</td>\n",
       "      <td>0.005</td>\n",
       "      <td>1.999821</td>\n",
       "      <td>-0.000179</td>\n",
       "    </tr>\n",
       "    <tr>\n",
       "      <th>59</th>\n",
       "      <td>party_1</td>\n",
       "      <td>44727</td>\n",
       "      <td>2</td>\n",
       "      <td>False</td>\n",
       "      <td>0.005000</td>\n",
       "      <td>0.005</td>\n",
       "      <td>1.999800</td>\n",
       "      <td>-0.000200</td>\n",
       "    </tr>\n",
       "    <tr>\n",
       "      <th>81</th>\n",
       "      <td>party_1</td>\n",
       "      <td>47581</td>\n",
       "      <td>2</td>\n",
       "      <td>False</td>\n",
       "      <td>0.005000</td>\n",
       "      <td>0.005</td>\n",
       "      <td>1.999873</td>\n",
       "      <td>-0.000127</td>\n",
       "    </tr>\n",
       "    <tr>\n",
       "      <th>107</th>\n",
       "      <td>party_1</td>\n",
       "      <td>46046</td>\n",
       "      <td>2</td>\n",
       "      <td>False</td>\n",
       "      <td>0.005000</td>\n",
       "      <td>0.005</td>\n",
       "      <td>1.999801</td>\n",
       "      <td>-0.000199</td>\n",
       "    </tr>\n",
       "    <tr>\n",
       "      <th>158</th>\n",
       "      <td>party_1</td>\n",
       "      <td>44183</td>\n",
       "      <td>2</td>\n",
       "      <td>False</td>\n",
       "      <td>0.004999</td>\n",
       "      <td>0.005</td>\n",
       "      <td>1.999764</td>\n",
       "      <td>-0.000236</td>\n",
       "    </tr>\n",
       "  </tbody>\n",
       "</table>\n",
       "</div>"
      ],
      "text/plain": [
       "       party  votes  seats  is_forfeit  vote_perc  seat_perc  opt_seats  \\\n",
       "21   party_1  50746      2       False   0.005000      0.005   1.999821   \n",
       "59   party_1  44727      2       False   0.005000      0.005   1.999800   \n",
       "81   party_1  47581      2       False   0.005000      0.005   1.999873   \n",
       "107  party_1  46046      2       False   0.005000      0.005   1.999801   \n",
       "158  party_1  44183      2       False   0.004999      0.005   1.999764   \n",
       "\n",
       "     seat_diff  \n",
       "21   -0.000179  \n",
       "59   -0.000200  \n",
       "81   -0.000127  \n",
       "107  -0.000199  \n",
       "158  -0.000236  "
      ]
     },
     "execution_count": 45,
     "metadata": {},
     "output_type": "execute_result"
    }
   ],
   "source": [
    "orig_p1_data = all_orig_df[all_orig_df[\"party\"] == \"party_1\"]\n",
    "orig_p1_data.head()"
   ]
  },
  {
   "cell_type": "code",
   "execution_count": 56,
   "id": "e3ee84c1-bb8b-427f-9b50-c855c3d7f9ec",
   "metadata": {},
   "outputs": [
    {
     "data": {
      "text/html": [
       "<div>\n",
       "<style scoped>\n",
       "    .dataframe tbody tr th:only-of-type {\n",
       "        vertical-align: middle;\n",
       "    }\n",
       "\n",
       "    .dataframe tbody tr th {\n",
       "        vertical-align: top;\n",
       "    }\n",
       "\n",
       "    .dataframe thead th {\n",
       "        text-align: right;\n",
       "    }\n",
       "</style>\n",
       "<table border=\"1\" class=\"dataframe\">\n",
       "  <thead>\n",
       "    <tr style=\"text-align: right;\">\n",
       "      <th></th>\n",
       "      <th>party</th>\n",
       "      <th>votes</th>\n",
       "      <th>seats</th>\n",
       "      <th>is_ind</th>\n",
       "      <th>is_forfeit</th>\n",
       "      <th>vote_perc</th>\n",
       "      <th>seat_perc</th>\n",
       "      <th>opt_seats</th>\n",
       "      <th>seat_diff</th>\n",
       "    </tr>\n",
       "  </thead>\n",
       "  <tbody>\n",
       "    <tr>\n",
       "      <th>0</th>\n",
       "      <td>0</td>\n",
       "      <td>144404</td>\n",
       "      <td>3</td>\n",
       "      <td>False</td>\n",
       "      <td>False</td>\n",
       "      <td>0.007113</td>\n",
       "      <td>0.007614</td>\n",
       "      <td>2.802689</td>\n",
       "      <td>-0.197311</td>\n",
       "    </tr>\n",
       "    <tr>\n",
       "      <th>1</th>\n",
       "      <td>1</td>\n",
       "      <td>4168288</td>\n",
       "      <td>81</td>\n",
       "      <td>False</td>\n",
       "      <td>False</td>\n",
       "      <td>0.205332</td>\n",
       "      <td>0.205584</td>\n",
       "      <td>80.900903</td>\n",
       "      <td>-0.099097</td>\n",
       "    </tr>\n",
       "    <tr>\n",
       "      <th>2</th>\n",
       "      <td>2</td>\n",
       "      <td>149124</td>\n",
       "      <td>3</td>\n",
       "      <td>False</td>\n",
       "      <td>False</td>\n",
       "      <td>0.007346</td>\n",
       "      <td>0.007614</td>\n",
       "      <td>2.894298</td>\n",
       "      <td>-0.105702</td>\n",
       "    </tr>\n",
       "    <tr>\n",
       "      <th>3</th>\n",
       "      <td>3</td>\n",
       "      <td>171936</td>\n",
       "      <td>3</td>\n",
       "      <td>False</td>\n",
       "      <td>False</td>\n",
       "      <td>0.008470</td>\n",
       "      <td>0.007614</td>\n",
       "      <td>3.337048</td>\n",
       "      <td>0.337048</td>\n",
       "    </tr>\n",
       "    <tr>\n",
       "      <th>4</th>\n",
       "      <td>4</td>\n",
       "      <td>138812</td>\n",
       "      <td>3</td>\n",
       "      <td>False</td>\n",
       "      <td>False</td>\n",
       "      <td>0.006838</td>\n",
       "      <td>0.007614</td>\n",
       "      <td>2.694156</td>\n",
       "      <td>-0.305844</td>\n",
       "    </tr>\n",
       "  </tbody>\n",
       "</table>\n",
       "</div>"
      ],
      "text/plain": [
       "  party    votes  seats  is_ind  is_forfeit  vote_perc  seat_perc  opt_seats  \\\n",
       "0     0   144404      3   False       False   0.007113   0.007614   2.802689   \n",
       "1     1  4168288     81   False       False   0.205332   0.205584  80.900903   \n",
       "2     2   149124      3   False       False   0.007346   0.007614   2.894298   \n",
       "3     3   171936      3   False       False   0.008470   0.007614   3.337048   \n",
       "4     4   138812      3   False       False   0.006838   0.007614   2.694156   \n",
       "\n",
       "   seat_diff  \n",
       "0  -0.197311  \n",
       "1  -0.099097  \n",
       "2  -0.105702  \n",
       "3   0.337048  \n",
       "4  -0.305844  "
      ]
     },
     "execution_count": 56,
     "metadata": {},
     "output_type": "execute_result"
    }
   ],
   "source": [
    "amend_all_data.head()"
   ]
  },
  {
   "cell_type": "code",
   "execution_count": 57,
   "id": "ed33f080-2af5-4aef-aae9-ab08ce676a3f",
   "metadata": {},
   "outputs": [
    {
     "data": {
      "text/plain": [
       "votes\n",
       "144404    1\n",
       "93748     1\n",
       "43602     1\n",
       "45516     1\n",
       "101284    1\n",
       "         ..\n",
       "98720     1\n",
       "90262     1\n",
       "75646     1\n",
       "78890     1\n",
       "68728     1\n",
       "Name: count, Length: 100, dtype: int64"
      ]
     },
     "execution_count": 57,
     "metadata": {},
     "output_type": "execute_result"
    }
   ],
   "source": [
    "amend_all_data[\"votes\"].iloc[:100].value_counts()"
   ]
  },
  {
   "cell_type": "code",
   "execution_count": 54,
   "id": "b667b665-1d2e-4ed7-955e-e03011898419",
   "metadata": {},
   "outputs": [
    {
     "data": {
      "text/html": [
       "<div>\n",
       "<style scoped>\n",
       "    .dataframe tbody tr th:only-of-type {\n",
       "        vertical-align: middle;\n",
       "    }\n",
       "\n",
       "    .dataframe tbody tr th {\n",
       "        vertical-align: top;\n",
       "    }\n",
       "\n",
       "    .dataframe thead th {\n",
       "        text-align: right;\n",
       "    }\n",
       "</style>\n",
       "<table border=\"1\" class=\"dataframe\">\n",
       "  <thead>\n",
       "    <tr style=\"text-align: right;\">\n",
       "      <th></th>\n",
       "      <th>party</th>\n",
       "      <th>votes</th>\n",
       "      <th>seats</th>\n",
       "      <th>is_ind</th>\n",
       "      <th>is_forfeit</th>\n",
       "      <th>vote_perc</th>\n",
       "      <th>seat_perc</th>\n",
       "      <th>opt_seats</th>\n",
       "      <th>seat_diff</th>\n",
       "    </tr>\n",
       "  </thead>\n",
       "  <tbody>\n",
       "    <tr>\n",
       "      <th>1</th>\n",
       "      <td>1</td>\n",
       "      <td>4168288</td>\n",
       "      <td>81</td>\n",
       "      <td>False</td>\n",
       "      <td>False</td>\n",
       "      <td>0.205332</td>\n",
       "      <td>0.205584</td>\n",
       "      <td>80.900903</td>\n",
       "      <td>-0.099097</td>\n",
       "    </tr>\n",
       "    <tr>\n",
       "      <th>44</th>\n",
       "      <td>1</td>\n",
       "      <td>114760</td>\n",
       "      <td>2</td>\n",
       "      <td>False</td>\n",
       "      <td>False</td>\n",
       "      <td>0.006414</td>\n",
       "      <td>0.005089</td>\n",
       "      <td>2.520635</td>\n",
       "      <td>0.520635</td>\n",
       "    </tr>\n",
       "    <tr>\n",
       "      <th>77</th>\n",
       "      <td>1</td>\n",
       "      <td>7350016</td>\n",
       "      <td>152</td>\n",
       "      <td>False</td>\n",
       "      <td>False</td>\n",
       "      <td>0.386160</td>\n",
       "      <td>0.386768</td>\n",
       "      <td>151.760821</td>\n",
       "      <td>-0.239179</td>\n",
       "    </tr>\n",
       "    <tr>\n",
       "      <th>105</th>\n",
       "      <td>1</td>\n",
       "      <td>3878878</td>\n",
       "      <td>82</td>\n",
       "      <td>False</td>\n",
       "      <td>False</td>\n",
       "      <td>0.210577</td>\n",
       "      <td>0.209719</td>\n",
       "      <td>82.335615</td>\n",
       "      <td>0.335615</td>\n",
       "    </tr>\n",
       "    <tr>\n",
       "      <th>147</th>\n",
       "      <td>1</td>\n",
       "      <td>2174054</td>\n",
       "      <td>48</td>\n",
       "      <td>False</td>\n",
       "      <td>False</td>\n",
       "      <td>0.123000</td>\n",
       "      <td>0.122762</td>\n",
       "      <td>48.092858</td>\n",
       "      <td>0.092858</td>\n",
       "    </tr>\n",
       "  </tbody>\n",
       "</table>\n",
       "</div>"
      ],
      "text/plain": [
       "    party    votes  seats  is_ind  is_forfeit  vote_perc  seat_perc  \\\n",
       "1       1  4168288     81   False       False   0.205332   0.205584   \n",
       "44      1   114760      2   False       False   0.006414   0.005089   \n",
       "77      1  7350016    152   False       False   0.386160   0.386768   \n",
       "105     1  3878878     82   False       False   0.210577   0.209719   \n",
       "147     1  2174054     48   False       False   0.123000   0.122762   \n",
       "\n",
       "      opt_seats  seat_diff  \n",
       "1     80.900903  -0.099097  \n",
       "44     2.520635   0.520635  \n",
       "77   151.760821  -0.239179  \n",
       "105   82.335615   0.335615  \n",
       "147   48.092858   0.092858  "
      ]
     },
     "execution_count": 54,
     "metadata": {},
     "output_type": "execute_result"
    }
   ],
   "source": [
    "amend_p1_data = amend_all_data[amend_all_data[\"party\"] == \"1\"]\n",
    "amend_p1_data.head()"
   ]
  },
  {
   "cell_type": "code",
   "execution_count": 55,
   "id": "600919ac-1dde-4b1c-9b97-8068ab6711b5",
   "metadata": {},
   "outputs": [
    {
     "name": "stderr",
     "output_type": "stream",
     "text": [
      "C:\\Users\\simon\\AppData\\Local\\Temp\\ipykernel_15436\\3449998321.py:1: UserWarning: \n",
      "\n",
      "`distplot` is a deprecated function and will be removed in seaborn v0.14.0.\n",
      "\n",
      "Please adapt your code to use either `displot` (a figure-level function with\n",
      "similar flexibility) or `histplot` (an axes-level function for histograms).\n",
      "\n",
      "For a guide to updating your code to use the new functions, please see\n",
      "https://gist.github.com/mwaskom/de44147ed2974457ad6372750bbe5751\n",
      "\n",
      "  sns.distplot(amend_p1_data[\"votes\"])\n"
     ]
    },
    {
     "data": {
      "text/plain": [
       "<Axes: xlabel='votes', ylabel='Density'>"
      ]
     },
     "execution_count": 55,
     "metadata": {},
     "output_type": "execute_result"
    },
    {
     "data": {
      "image/png": "[encoded data removed]",
      "text/plain": [
       "<Figure size 640x480 with 1 Axes>"
      ]
     },
     "metadata": {},
     "output_type": "display_data"
    }
   ],
   "source": [
    "sns.distplot(amend_p1_data[\"votes\"])"
   ]
  },
  {
   "cell_type": "code",
   "execution_count": null,
   "id": "a2a3cbf9-ef32-4881-87fc-954f31ea57a2",
   "metadata": {},
   "outputs": [],
   "source": [
    "fig, axs = plt.subplots(1,2, figsize=(14, 7))\n",
    "\n",
    "cmap = matplotlib.cm.get_cmap(\"Blues\")\n",
    "bg_color = cmap(0)    \n",
    "    \n",
    "kde_kwargs = {\n",
    "    \"x\": \"perc_votes\",\n",
    "    \"y\": \"seat_diff\",\n",
    "    \"fill\": True,\n",
    "    \"cmap\": \"Blues\",\n",
    "    \"levels\": 500,\n",
    "    \"thresh\": 0\n",
    "}\n",
    "\n",
    "reg_kwargs = {\n",
    "    \"x\": \"perc_votes\",\n",
    "    \"y\": \"seat_diff\",\n",
    "    \"color\": \"aqua\",\n",
    "    \"scatter\": False\n",
    "}\n",
    "\n",
    "axs[0].set_title(\"Original Electoral Formula\")\n",
    "axs[1].set_title(\"Amended Electoral Formula\")\n",
    "\n",
    "sns.kdeplot(data=orig_p1_data, ax=axs[0], **kde_kwargs)\n",
    "sns.kdeplot(data=amend_p1_data, ax=axs[1], **kde_kwargs)\n",
    "\n",
    "for ax in axs:\n",
    "    sns.lineplot(x=[0,100], y=[0,0], ax=ax, color='black', linewidth=2)\n",
    "\n",
    "sns.regplot(data=amend_p1_data, ax=axs[1], **reg_kwargs)\n",
    "sns.regplot(data=orig_p1_data, ax=axs[0], **reg_kwargs)\n",
    "    \n",
    "for ax in axs:\n",
    "    ax.set_facecolor(bg_color)\n",
    "    ax.set_xlim(0, 100)\n",
    "    ax.set_ylim(-1, 2)\n",
    "    ax.set_xlabel(\"Percentage of Votes (%)\")\n",
    "\n",
    "for ax in axs:\n",
    "    ax.set_ylabel(\"Seats - Optimal Seats\")\n",
    "# axs[0].set_ylabel(\"Difference in Seats\")\n",
    "# axs[1].set_ylabel(\"Difference in Seats\")\n",
    "\n",
    "fig.savefig(f\"{figs_path}/ip_bias.png\")"
   ]
  }
 ],
 "metadata": {
  "kernelspec": {
   "display_name": "Python 3 (ipykernel)",
   "language": "python",
   "name": "python3"
  },
  "language_info": {
   "codemirror_mode": {
    "name": "ipython",
    "version": 3
   },
   "file_extension": ".py",
   "mimetype": "text/x-python",
   "name": "python",
   "nbconvert_exporter": "python",
   "pygments_lexer": "ipython3",
   "version": "3.11.8"
  }
 },
 "nbformat": 4,
 "nbformat_minor": 5
}
